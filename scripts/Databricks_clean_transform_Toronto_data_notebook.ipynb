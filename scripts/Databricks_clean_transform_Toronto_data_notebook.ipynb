{
 "cells": [
  {
   "cell_type": "code",
   "execution_count": 0,
   "metadata": {
    "application/vnd.databricks.v1+cell": {
     "cellMetadata": {
      "byteLimit": 2048000,
      "rowLimit": 10000
     },
     "inputWidgets": {},
     "nuid": "9dde379b-9a3c-4fec-9b2d-68c5ebfe063d",
     "showTitle": false,
     "tableResultSettingsMap": {},
     "title": ""
    }
   },
   "outputs": [],
   "source": [
    "# Import\n",
    "from pyspark.sql import SparkSession\n",
    "from datetime import datetime\n",
    "from pyspark.sql.functions import (\n",
    "    col,\n",
    "    date_format,\n",
    "    greatest,\n",
    "    isnan,\n",
    "    when,\n",
    "    count\n",
    ")"
   ]
  },
  {
   "cell_type": "code",
   "execution_count": 0,
   "metadata": {
    "application/vnd.databricks.v1+cell": {
     "cellMetadata": {
      "byteLimit": 2048000,
      "rowLimit": 10000
     },
     "inputWidgets": {},
     "nuid": "7a114bdd-2029-4635-982b-6d459b2477cb",
     "showTitle": false,
     "tableResultSettingsMap": {},
     "title": ""
    }
   },
   "outputs": [],
   "source": [
    "acc_storage_key=dbutils.secrets.get(\n",
    "        scope=\"Toronto_key_vault_secret\", key=\"torontodatalakestorage-key\"\n",
    "    )\n",
    "spark.conf.set(\"fs.azure.account.key.torontodatalakestorage.dfs.core.windows.net\",acc_storage_key)\n",
    "spark.sparkContext._jsc.hadoopConfiguration().set(\"fs.azure.account.key.torontodatalakestorage.dfs.core.windows.net\",acc_storage_key)"
   ]
  },
  {
   "cell_type": "markdown",
   "metadata": {
    "application/vnd.databricks.v1+cell": {
     "cellMetadata": {
      "byteLimit": 2048000,
      "rowLimit": 10000
     },
     "inputWidgets": {},
     "nuid": "5c00658b-b6da-4587-bdbd-6579fa021c43",
     "showTitle": false,
     "tableResultSettingsMap": {},
     "title": ""
    }
   },
   "source": [
    "## Read data"
   ]
  },
  {
   "cell_type": "code",
   "execution_count": 0,
   "metadata": {
    "application/vnd.databricks.v1+cell": {
     "cellMetadata": {
      "byteLimit": 2048000,
      "rowLimit": 10000
     },
     "inputWidgets": {},
     "nuid": "5fc643ca-ff3c-404d-9470-e0afbfe33ea1",
     "showTitle": false,
     "tableResultSettingsMap": {},
     "title": ""
    }
   },
   "outputs": [
    {
     "output_type": "stream",
     "name": "stdout",
     "output_type": "stream",
     "text": [
      "+----------+-----------------------+-----------------------+-----------------------+------------------------+-----------------+----------------+---------------------+---------------------+----------------------+-------------+-----------------+-----------------------+-------------------------+-------------------------+-------------------------------+-------------------------------+-------------------------------+\n|      time|weather_code (wmo code)|temperature_2m_max (°C)|temperature_2m_min (°C)|temperature_2m_mean (°C)|sunrise (iso8601)|sunset (iso8601)|daylight_duration (s)|sunshine_duration (s)|precipitation_sum (mm)|rain_sum (mm)|snowfall_sum (cm)|precipitation_hours (h)|wind_speed_10m_max (km/h)|wind_gusts_10m_max (km/h)|wind_direction_10m_dominant (°)|shortwave_radiation_sum (MJ/m²)|et0_fao_evapotranspiration (mm)|\n+----------+-----------------------+-----------------------+-----------------------+------------------------+-----------------+----------------+---------------------+---------------------+----------------------+-------------+-----------------+-----------------------+-------------------------+-------------------------+-------------------------------+-------------------------------+-------------------------------+\n|2014-01-01|                     71|                   -9.3|                  -15.1|                   -11.3| 2014-01-01T08:51|2014-01-01T17:51|             32396.17|             22507.94|                  0.00|         0.00|             0.14|                    0.0|                     18.9|                     32.8|                            323|                           5.86|                           0.50|\n|2014-01-02|                     73|                  -15.3|                  -19.3|                   -17.6| 2014-01-02T08:51|2014-01-02T17:52|             32446.44|                 0.00|                  2.50|         0.00|             2.31|                   13.0|                     23.1|                     43.9|                             18|                           3.19|                           0.28|\n|2014-01-03|                      2|                  -12.4|                  -23.2|                   -18.7| 2014-01-03T08:51|2014-01-03T17:53|             32500.77|             28492.53|                  0.00|         0.00|             0.00|                    0.0|                     20.3|                     39.2|                            330|                           8.38|                           0.37|\n|2014-01-04|                     71|                   -1.7|                  -11.4|                    -5.5| 2014-01-04T08:51|2014-01-04T17:54|             32559.09|             24763.56|                  0.10|         0.00|             0.28|                    1.0|                     28.2|                     52.9|                            210|                           6.62|                           0.84|\n|2014-01-05|                     75|                    0.7|                   -2.3|                    -1.3| 2014-01-05T08:51|2014-01-05T17:54|             32621.58|                 0.00|                 11.00|         0.60|             7.35|                   23.0|                     20.6|                     52.2|                            130|                           3.05|                           0.36|\n|2014-01-06|                     73|                    3.3|                  -14.3|                    -5.6| 2014-01-06T08:51|2014-01-06T17:55|             32688.91|             26883.90|                  7.60|         5.80|             1.47|                    9.0|                     32.9|                     61.2|                            265|                           6.88|                           0.56|\n|2014-01-07|                     71|                  -13.8|                  -21.2|                   -18.1| 2014-01-07T08:50|2014-01-07T17:56|             32760.95|             27931.91|                  0.20|         0.00|             0.21|                    1.0|                     38.7|                     65.9|                            245|                           8.20|                           0.37|\n|2014-01-08|                      3|                   -8.5|                  -17.8|                   -13.6| 2014-01-08T08:50|2014-01-08T17:58|             32837.52|             24068.29|                  0.00|         0.00|             0.00|                    0.0|                     24.5|                     45.7|                            237|                           7.52|                           0.46|\n|2014-01-09|                      2|                   -7.2|                  -12.9|                   -10.1| 2014-01-09T08:50|2014-01-09T17:59|             32918.45|             28964.54|                  0.00|         0.00|             0.00|                    0.0|                     14.4|                     23.4|                            229|                           8.71|                           0.50|\n|2014-01-10|                     71|                    1.4|                   -6.7|                    -2.6| 2014-01-10T08:50|2014-01-10T18:00|             33003.57|              2893.66|                  1.40|         0.00|             1.12|                    8.0|                     11.5|                     23.4|                            156|                           3.83|                           0.32|\n|2014-01-11|                     61|                    5.5|                    1.6|                     3.6| 2014-01-11T08:49|2014-01-11T18:01|             33092.71|                 0.00|                  9.60|         9.60|             0.00|                   18.0|                     25.3|                     43.9|                            211|                           1.19|                           0.21|\n|2014-01-12|                      3|                    1.8|                   -0.7|                     0.5| 2014-01-12T08:49|2014-01-12T18:02|             33185.69|             17004.04|                  0.00|         0.00|             0.00|                    0.0|                     23.4|                     41.8|                            251|                           5.36|                           0.73|\n|2014-01-13|                     53|                    5.3|                    0.1|                     2.7| 2014-01-13T08:48|2014-01-13T18:03|             33282.32|              2563.58|                  1.90|         1.90|             0.00|                    7.0|                     25.2|                     49.0|                            203|                           4.37|                           0.80|\n|2014-01-14|                     51|                    4.6|                   -1.2|                     2.1| 2014-01-14T08:48|2014-01-14T18:04|             33382.46|             21625.31|                  0.20|         0.20|             0.00|                    1.0|                     18.4|                     36.4|                            237|                           4.50|                           0.50|\n|2014-01-15|                     71|                    0.6|                   -4.0|                    -1.4| 2014-01-15T08:47|2014-01-15T18:06|             33485.92|              4714.03|                  0.20|         0.00|             0.28|                    1.0|                     30.1|                     59.0|                            221|                           4.24|                           0.85|\n|2014-01-16|                     71|                   -1.5|                   -4.7|                    -3.2| 2014-01-16T08:47|2014-01-16T18:07|             33592.54|             23269.58|                  0.80|         0.00|             0.63|                    5.0|                     23.7|                     45.4|                            195|                           6.85|                           0.91|\n|2014-01-17|                     71|                    1.5|                   -3.4|                    -1.0| 2014-01-17T08:46|2014-01-17T18:08|             33702.15|             19951.43|                  0.40|         0.00|             0.63|                    3.0|                     23.7|                     47.9|                            205|                           5.32|                           0.76|\n|2014-01-18|                     73|                   -2.7|                   -7.5|                    -4.3| 2014-01-18T08:46|2014-01-18T18:09|             33814.57|             13395.28|                  0.80|         0.00|             0.84|                    5.0|                     18.9|                     36.4|                            263|                           5.79|                           0.69|\n|2014-01-19|                     71|                   -2.2|                   -8.2|                    -5.5| 2014-01-19T08:45|2014-01-19T18:11|             33929.67|              1074.55|                  0.50|         0.00|             0.63|                    3.0|                     36.4|                     69.8|                            231|                           3.68|                           0.62|\n|2014-01-20|                     71|                   -2.3|                  -15.5|                    -8.2| 2014-01-20T08:44|2014-01-20T18:12|             34047.27|             27645.50|                  0.60|         0.00|             0.63|                    3.0|                     22.7|                     44.6|                            319|                           7.47|                           0.64|\n+----------+-----------------------+-----------------------+-----------------------+------------------------+-----------------+----------------+---------------------+---------------------+----------------------+-------------+-----------------+-----------------------+-------------------------+-------------------------+-------------------------------+-------------------------------+-------------------------------+\nonly showing top 20 rows\n\n"
     ]
    }
   ],
   "source": [
    "# Read Toronto weather csv file\n",
    "\n",
    "# Define the file path\n",
    "toronto_weather_path = f'abfss://toronto-data@torontodatalakestorage.dfs.core.windows.net/raw/toronto_weather_{datetime.today().strftime(\"%Y%m%d\")}.csv'\n",
    "\n",
    "# Read the CSV file into the RDD and skip the first two lines\n",
    "rdd = spark.sparkContext.textFile(toronto_weather_path).zipWithIndex().filter(lambda x: x[1] > 2).map(lambda x: x[0])\n",
    "\n",
    "# Convert the RDD to a DataFrame without the headers\n",
    "toronto_weather_raw = spark.read.csv(rdd, header=True)\n",
    "\n",
    "# Display the DataFrame\n",
    "toronto_weather_raw.show()"
   ]
  },
  {
   "cell_type": "code",
   "execution_count": 0,
   "metadata": {
    "application/vnd.databricks.v1+cell": {
     "cellMetadata": {
      "byteLimit": 2048000,
      "rowLimit": 10000
     },
     "inputWidgets": {},
     "nuid": "cf95fc7d-81cd-4af0-a063-8beed31161b8",
     "showTitle": false,
     "tableResultSettingsMap": {},
     "title": ""
    }
   },
   "outputs": [
    {
     "output_type": "stream",
     "name": "stdout",
     "output_type": "stream",
     "text": [
      "root\n |-- time: string (nullable = true)\n |-- weather_code (wmo code): string (nullable = true)\n |-- temperature_2m_max (°C): string (nullable = true)\n |-- temperature_2m_min (°C): string (nullable = true)\n |-- temperature_2m_mean (°C): string (nullable = true)\n |-- sunrise (iso8601): string (nullable = true)\n |-- sunset (iso8601): string (nullable = true)\n |-- daylight_duration (s): string (nullable = true)\n |-- sunshine_duration (s): string (nullable = true)\n |-- precipitation_sum (mm): string (nullable = true)\n |-- rain_sum (mm): string (nullable = true)\n |-- snowfall_sum (cm): string (nullable = true)\n |-- precipitation_hours (h): string (nullable = true)\n |-- wind_speed_10m_max (km/h): string (nullable = true)\n |-- wind_gusts_10m_max (km/h): string (nullable = true)\n |-- wind_direction_10m_dominant (°): string (nullable = true)\n |-- shortwave_radiation_sum (MJ/m²): string (nullable = true)\n |-- et0_fao_evapotranspiration (mm): string (nullable = true)\n\n"
     ]
    }
   ],
   "source": [
    "toronto_weather_raw.printSchema()"
   ]
  },
  {
   "cell_type": "code",
   "execution_count": 0,
   "metadata": {
    "application/vnd.databricks.v1+cell": {
     "cellMetadata": {
      "byteLimit": 2048000,
      "rowLimit": 10000
     },
     "inputWidgets": {},
     "nuid": "5303296e-8b23-4e93-84a1-241b25a2aad0",
     "showTitle": false,
     "tableResultSettingsMap": {},
     "title": ""
    }
   },
   "outputs": [
    {
     "output_type": "stream",
     "name": "stdout",
     "output_type": "stream",
     "text": [
      "+-------+----------+-----------------------+-----------------------+-----------------------+------------------------+-----------------+----------------+---------------------+---------------------+----------------------+-------------+-----------------+-----------------------+-------------------------+-------------------------+-------------------------------+-------------------------------+-------------------------------+\n|summary|      time|weather_code (wmo code)|temperature_2m_max (°C)|temperature_2m_min (°C)|temperature_2m_mean (°C)|sunrise (iso8601)|sunset (iso8601)|daylight_duration (s)|sunshine_duration (s)|precipitation_sum (mm)|rain_sum (mm)|snowfall_sum (cm)|precipitation_hours (h)|wind_speed_10m_max (km/h)|wind_gusts_10m_max (km/h)|wind_direction_10m_dominant (°)|shortwave_radiation_sum (MJ/m²)|et0_fao_evapotranspiration (mm)|\n+-------+----------+-----------------------+-----------------------+-----------------------+------------------------+-----------------+----------------+---------------------+---------------------+----------------------+-------------+-----------------+-----------------------+-------------------------+-------------------------+-------------------------------+-------------------------------+-------------------------------+\n|  count|      3953|                   3953|                   3953|                   3953|                    3953|             3953|            3953|                 3953|                 3953|                  3953|         3953|             3953|                   3953|                     3953|                     3953|                           3953|                           3953|                           3953|\n|   mean|      null|                    NaN|                    NaN|                    NaN|                     NaN|             null|            null|    44156.47699721724|                  NaN|                   NaN|          NaN|              NaN|     3.6207943334176576|                      NaN|                      NaN|                            NaN|                            NaN|                            NaN|\n| stddev|      null|                    NaN|                    NaN|                    NaN|                     NaN|             null|            null|    8012.792088156542|                  NaN|                   NaN|          NaN|              NaN|      5.089894596202722|                      NaN|                      NaN|                            NaN|                            NaN|                            NaN|\n|    min|2014-01-01|                      0|                   -0.0|                   -0.0|                    -0.0| 2014-01-01T08:51|2014-01-01T17:51|             32116.21|                 0.00|                  0.00|         0.00|             0.00|                    0.0|                     10.0|                    103.0|                              0|                           0.63|                           0.16|\n|    25%|      null|                    3.0|                    3.9|                   -2.4|                     0.8|             null|            null|             36493.78|             18630.27|                   0.0|          0.0|              0.0|                    0.0|                     15.9|                     32.0|                          109.0|                           7.07|                           0.94|\n|    50%|      null|                   51.0|                   12.9|                    5.0|                     8.8|             null|            null|              44358.7|             31895.75|                   0.1|          0.0|              0.0|                    1.0|                     20.5|                     40.3|                          228.0|                          13.55|                           2.03|\n|    75%|      null|                   61.0|                   22.0|                   14.1|                    18.1|             null|            null|             51910.32|             42807.94|                   2.2|          1.5|              0.0|                    6.0|                     25.7|                     49.7|                          285.0|                          20.82|                           3.68|\n|    max|2024-10-27|                    NaN|                    NaN|                    NaN|                     NaN| 2024-10-27T07:48|2024-10-27T18:14|             55609.77|                  NaN|                   NaN|          NaN|              NaN|                    9.0|                      NaN|                      NaN|                            NaN|                            NaN|                            NaN|\n+-------+----------+-----------------------+-----------------------+-----------------------+------------------------+-----------------+----------------+---------------------+---------------------+----------------------+-------------+-----------------+-----------------------+-------------------------+-------------------------+-------------------------------+-------------------------------+-------------------------------+\n\n"
     ]
    }
   ],
   "source": [
    "toronto_weather_raw.summary().show()"
   ]
  },
  {
   "cell_type": "code",
   "execution_count": 0,
   "metadata": {
    "application/vnd.databricks.v1+cell": {
     "cellMetadata": {
      "byteLimit": 2048000,
      "rowLimit": 10000
     },
     "inputWidgets": {},
     "nuid": "ed8a74ab-12df-4137-bce5-f30f22ab2dff",
     "showTitle": false,
     "tableResultSettingsMap": {},
     "title": ""
    }
   },
   "outputs": [
    {
     "output_type": "stream",
     "name": "stdout",
     "output_type": "stream",
     "text": [
      "+----------+-------+--------+---------------+----------+--------------+--------+-----------------+------------------+------------------+----------+--------------------+--------+-------------+-------+--------+---------+--------+---------+-------------+----------+\n|AUTOMOBILE|BICYCLE|DIVISION|EVENT_UNIQUE_ID|FATALITIES|FTR_COLLISIONS|HOOD_158|INJURY_COLLISIONS|         LAT_WGS84|        LONG_WGS84|MOTORCYCLE|   NEIGHBOURHOOD_158|OBJECTID|     OCC_DATE|OCC_DOW|OCC_HOUR|OCC_MONTH|OCC_YEAR|PASSENGER|PD_COLLISIONS|PEDESTRIAN|\n+----------+-------+--------+---------------+----------+--------------+--------+-----------------+------------------+------------------+----------+--------------------+--------+-------------+-------+--------+---------+--------+---------+-------------+----------+\n|       YES|    YES|     D55| GO-20142815344|         0|            NO|     068|              YES| 43.67619633749256|-79.35886348045678|        NO|North Riverdale (68)|   42001|1409461200000| Sunday|      18|   August|    2014|       NO|           NO|        NO|\n|       YES|     NO|     D22| GO-20148032306|         0|            NO|     159|               NO| 43.61639740463249|-79.54627218313969|        NO|Etobicoke City Ce...|   42002|1409461200000| Sunday|      17|   August|    2014|       NO|          YES|        NO|\n|       YES|     NO|     D51| GO-20142815179|         0|            NO|     167|               NO| 43.66290600200977|-79.38372774683492|        NO|Church-Wellesley ...|   42003|1409461200000| Sunday|      17|   August|    2014|       NO|          YES|        NO|\n|       YES|     NO|     D32| GO-20148032618|         0|            NO|     033|               NO| 43.73330654738157|-79.45274806291962|        NO|   Clanton Park (33)|   42004|1409461200000| Sunday|      14|   August|    2014|       NO|          YES|        NO|\n|       YES|     NO|     D51| GO-20148032942|         0|            NO|     072|               NO| 43.66278830189199|-79.36317286098945|        NO|    Regent Park (72)|   42005|1409461200000| Sunday|       2|   August|    2014|       NO|          YES|        NO|\n|       YES|     NO|     D32| GO-20142814710|         0|            NO|     040|               NO| 43.74414518291392|-79.40671388896679|        NO|St.Andrew-Windfie...|   42006|1409461200000| Sunday|      16|   August|    2014|       NO|          YES|        NO|\n|       YES|     NO|     D52| GO-20148032305|         0|            NO|     170|               NO|  43.6548223939261|-79.38814214166892|        NO|Yonge-Bay Corrido...|   42007|1409461200000| Sunday|      15|   August|    2014|       NO|          YES|        NO|\n|       YES|     NO|     D33| GO-20142812785|         0|            NO|     049|               NO| 43.78500070329029|-79.39213598212983|        NO|Bayview Woods-Ste...|   42008|1409461200000| Sunday|      11|   August|    2014|       NO|          YES|        NO|\n|       YES|     NO|     D11| GO-20142814452|         0|            NO|     087|               NO| 43.64488449995617| -79.4562365145866|        NO|High Park-Swansea...|   42009|1409461200000| Sunday|      16|   August|    2014|       NO|          YES|        NO|\n|       YES|     NO|     D41| GO-20142814154|         0|            NO|     119|              YES| 43.76115142489137|-79.30065157567259|        NO|Wexford/Maryvale ...|   42010|1409461200000| Sunday|      15|   August|    2014|      YES|           NO|        NO|\n|       YES|     NO|     D41| GO-20148032452|         0|            NO|     120|               NO| 43.72691366166945|-79.29151597810997|        NO|Clairlea-Birchmou...|   42011|1409461200000| Sunday|      16|   August|    2014|      YES|          YES|        NO|\n|       YES|     NO|     D42| GO-20142812742|         0|            NO|     116|              YES| 43.80863063979114|-79.31115409724694|        NO|       Steeles (116)|   42012|1409461200000| Sunday|      11|   August|    2014|      YES|           NO|        NO|\n|       YES|     NO|     D41| GO-20142813389|         0|            NO|     120|              YES| 43.72691366166945|-79.29151597810997|        NO|Clairlea-Birchmou...|   42013|1409461200000| Sunday|      13|   August|    2014|      YES|           NO|        NO|\n|       YES|     NO|     D22| GO-20142813353|         0|            NO|     161|              YES| 43.62094188018773|-79.48275561678737|        NO|Humber Bay Shores...|   42014|1409461200000| Sunday|      13|   August|    2014|      YES|           NO|        NO|\n|       YES|     NO|     D22| GO-20148033095|         0|           YES|     011|               NO| 43.65577091933763|-79.56476288098676|        NO|Eringate-Centenni...|   42015|1409461200000| Sunday|      11|   August|    2014|       NO|           NO|        NO|\n|       YES|     NO|     D42| GO-20142813255|         0|            NO|     129|              YES| 43.81164537761544|-79.26919623413414|        NO|Agincourt North (...|   42016|1409461200000| Sunday|      12|   August|    2014|      YES|           NO|        NO|\n|       YES|    YES|     D11| GO-20142813197|         0|           YES|     084|               NO|43.650498198935075|-79.43583622138662|        NO|Little Portugal (84)|   42017|1409461200000| Sunday|      13|   August|    2014|       NO|           NO|        NO|\n|       YES|     NO|     D31| GO-20148032683|         0|            NO|     021|               NO| 43.75207238680615|-79.54236519998109|        NO|  Humber Summit (21)|   42018|1409461200000| Sunday|      14|   August|    2014|       NO|          YES|        NO|\n|       YES|     NO|     NSA| GO-20148032455|         0|           YES|     NSA|               NO|               0.0|               0.0|        NO|                 NSA|   42019|1409461200000| Sunday|      23|   August|    2014|       NO|           NO|        NO|\n|       YES|     NO|     NSA| GO-20148032757|         0|            NO|     NSA|               NO|               0.0|               0.0|        NO|                 NSA|   42020|1409461200000| Sunday|      11|   August|    2014|       NO|          YES|        NO|\n+----------+-------+--------+---------------+----------+--------------+--------+-----------------+------------------+------------------+----------+--------------------+--------+-------------+-------+--------+---------+--------+---------+-------------+----------+\nonly showing top 20 rows\n\n"
     ]
    }
   ],
   "source": [
    "# Read Toronto traffic collisions json files\n",
    "\n",
    "# Define the file path\n",
    "toronto_collisions_path = f'abfss://toronto-data@torontodatalakestorage.dfs.core.windows.net/raw/toronto_traffic_collisions_{datetime.today().strftime(\"%Y%m%d\")}/*.json'\n",
    "\n",
    "df_temp = spark.read.json(toronto_collisions_path, multiLine=True)\n",
    "# Get acutal data from json\n",
    "toronto_collisions_raw = df_temp.selectExpr(\"inline(features.attributes)\")\n",
    "toronto_collisions_raw.show()"
   ]
  },
  {
   "cell_type": "code",
   "execution_count": 0,
   "metadata": {
    "application/vnd.databricks.v1+cell": {
     "cellMetadata": {
      "byteLimit": 2048000,
      "rowLimit": 10000
     },
     "inputWidgets": {},
     "nuid": "7759cefd-9756-4a88-828d-ba5f8f4e051d",
     "showTitle": false,
     "tableResultSettingsMap": {},
     "title": ""
    }
   },
   "outputs": [
    {
     "output_type": "stream",
     "name": "stdout",
     "output_type": "stream",
     "text": [
      "root\n |-- AUTOMOBILE: string (nullable = true)\n |-- BICYCLE: string (nullable = true)\n |-- DIVISION: string (nullable = true)\n |-- EVENT_UNIQUE_ID: string (nullable = true)\n |-- FATALITIES: long (nullable = true)\n |-- FTR_COLLISIONS: string (nullable = true)\n |-- HOOD_158: string (nullable = true)\n |-- INJURY_COLLISIONS: string (nullable = true)\n |-- LAT_WGS84: double (nullable = true)\n |-- LONG_WGS84: double (nullable = true)\n |-- MOTORCYCLE: string (nullable = true)\n |-- NEIGHBOURHOOD_158: string (nullable = true)\n |-- OBJECTID: long (nullable = true)\n |-- OCC_DATE: long (nullable = true)\n |-- OCC_DOW: string (nullable = true)\n |-- OCC_HOUR: string (nullable = true)\n |-- OCC_MONTH: string (nullable = true)\n |-- OCC_YEAR: string (nullable = true)\n |-- PASSENGER: string (nullable = true)\n |-- PD_COLLISIONS: string (nullable = true)\n |-- PEDESTRIAN: string (nullable = true)\n\n"
     ]
    }
   ],
   "source": [
    "toronto_collisions_raw.printSchema()"
   ]
  },
  {
   "cell_type": "code",
   "execution_count": 0,
   "metadata": {
    "application/vnd.databricks.v1+cell": {
     "cellMetadata": {
      "byteLimit": 2048000,
      "rowLimit": 10000
     },
     "inputWidgets": {},
     "nuid": "7da727af-c3de-4bbe-9664-7ff7295f6932",
     "showTitle": false,
     "tableResultSettingsMap": {},
     "title": ""
    }
   },
   "outputs": [
    {
     "output_type": "stream",
     "name": "stdout",
     "output_type": "stream",
     "text": [
      "+-------+----------+-------+--------+---------------+--------------------+--------------+----------------+-----------------+------------------+------------------+----------+--------------------+------------------+--------------------+---------+------------------+---------+--------+---------+-------------+----------+\n|summary|AUTOMOBILE|BICYCLE|DIVISION|EVENT_UNIQUE_ID|          FATALITIES|FTR_COLLISIONS|        HOOD_158|INJURY_COLLISIONS|         LAT_WGS84|        LONG_WGS84|MOTORCYCLE|   NEIGHBOURHOOD_158|          OBJECTID|            OCC_DATE|  OCC_DOW|          OCC_HOUR|OCC_MONTH|OCC_YEAR|PASSENGER|PD_COLLISIONS|PEDESTRIAN|\n+-------+----------+-------+--------+---------------+--------------------+--------------+----------------+-----------------+------------------+------------------+----------+--------------------+------------------+--------------------+---------+------------------+---------+--------+---------+-------------+----------+\n|  count|     44000|  44000|   44000|          44000|               44000|         44000|           44000|            44000|             44000|             44000|     44000|               44000|             44000|               44000|    44000|             44000|    44000|   44000|    44000|        44000|     44000|\n|   mean|      null|   null|    null|           null|6.136363636363636E-4|          null|92.0740128406492|             null|  36.0558880218928|-65.48124650982474|      null|                null|           22000.5|1.399038310472727...|     null|          13.53375|     null|  2014.0|     null|         null|      null|\n| stddev|      null|   null|    null|           null|0.024764364560581963|          null| 51.596657095824|             null|16.618147606174134|30.180285777168653|      null|                null|12701.850258919016| 6.434158937678286E9|     null|4.7075134382388475|     null|     0.0|     null|         null|      null|\n|    min|       N/R|    N/R|     D11|    GO-20141001|                   0|            NO|             001|               NO|               0.0|-79.63924734699417|       N/R|Agincourt North (...|                 1|       1388552400000|   Friday|                 0|    April|    2014|      N/R|           NO|       N/R|\n|    25%|      null|   null|    null|           null|                   0|          null|            44.0|             null|43.643979183082834|-79.43904159078797|      null|                null|             10997|       1393218000000|     null|              10.0|     null|  2014.0|     null|         null|      null|\n|    50%|      null|   null|    null|           null|                   0|          null|            95.0|             null| 43.69352848041655|-79.36845675258273|      null|                null|             21997|       1399006800000|     null|              14.0|     null|  2014.0|     null|         null|      null|\n|    75%|      null|   null|    null|           null|                   0|          null|           139.0|             null|43.752854773200326|-79.25424114074588|      null|                null|             32997|       1404536400000|     null|              17.0|     null|  2014.0|     null|         null|      null|\n|    max|       YES|    YES|     NSA| GO-20198008342|                   1|           YES|             NSA|              YES| 43.85316389313271|               0.0|       YES|Yorkdale-Glen Par...|             44000|       1410411600000|Wednesday|                 9|September|    2014|      YES|          YES|       YES|\n+-------+----------+-------+--------+---------------+--------------------+--------------+----------------+-----------------+------------------+------------------+----------+--------------------+------------------+--------------------+---------+------------------+---------+--------+---------+-------------+----------+\n\n"
     ]
    }
   ],
   "source": [
    "toronto_collisions_raw.summary().show()"
   ]
  },
  {
   "cell_type": "markdown",
   "metadata": {
    "application/vnd.databricks.v1+cell": {
     "cellMetadata": {
      "byteLimit": 2048000,
      "rowLimit": 10000
     },
     "inputWidgets": {},
     "nuid": "257fc627-2dbb-47b2-9da2-c0e80c07e39e",
     "showTitle": false,
     "tableResultSettingsMap": {},
     "title": ""
    }
   },
   "source": [
    "## Cleaning Toronto weather data"
   ]
  },
  {
   "cell_type": "code",
   "execution_count": 0,
   "metadata": {
    "application/vnd.databricks.v1+cell": {
     "cellMetadata": {
      "byteLimit": 2048000,
      "rowLimit": 10000
     },
     "inputWidgets": {},
     "nuid": "a2da0ab6-8c0e-407b-8109-5e5dd6e29daf",
     "showTitle": false,
     "tableResultSettingsMap": {},
     "title": ""
    }
   },
   "outputs": [],
   "source": [
    "# remove weather code column\n",
    "toronto_weather_transformed = toronto_weather_raw.drop(\"weather_code (wmo code)\")"
   ]
  },
  {
   "cell_type": "code",
   "execution_count": 0,
   "metadata": {
    "application/vnd.databricks.v1+cell": {
     "cellMetadata": {
      "byteLimit": 2048000,
      "rowLimit": 10000
     },
     "inputWidgets": {},
     "nuid": "9049d28f-8a3e-4458-8240-926e233a2e57",
     "showTitle": false,
     "tableResultSettingsMap": {},
     "title": ""
    }
   },
   "outputs": [
    {
     "output_type": "stream",
     "name": "stdout",
     "output_type": "stream",
     "text": [
      "+----+-----------------------+-----------------------+------------------------+-----------------+----------------+---------------------+---------------------+----------------------+-------------+-----------------+-----------------------+-------------------------+-------------------------+-------------------------------+-------------------------------+-------------------------------+\n|time|temperature_2m_max (°C)|temperature_2m_min (°C)|temperature_2m_mean (°C)|sunrise (iso8601)|sunset (iso8601)|daylight_duration (s)|sunshine_duration (s)|precipitation_sum (mm)|rain_sum (mm)|snowfall_sum (cm)|precipitation_hours (h)|wind_speed_10m_max (km/h)|wind_gusts_10m_max (km/h)|wind_direction_10m_dominant (°)|shortwave_radiation_sum (MJ/m²)|et0_fao_evapotranspiration (mm)|\n+----+-----------------------+-----------------------+------------------------+-----------------+----------------+---------------------+---------------------+----------------------+-------------+-----------------+-----------------------+-------------------------+-------------------------+-------------------------------+-------------------------------+-------------------------------+\n|   0|                      2|                      2|                       3|                0|               0|                    0|                    3|                     3|            3|                3|                      0|                        2|                        2|                              3|                              3|                              3|\n+----+-----------------------+-----------------------+------------------------+-----------------+----------------+---------------------+---------------------+----------------------+-------------+-----------------+-----------------------+-------------------------+-------------------------+-------------------------------+-------------------------------+-------------------------------+\n\n"
     ]
    }
   ],
   "source": [
    "# find any NaN values in toronto_weather_table\n",
    "toronto_weather_transformed.select(\n",
    "    [\n",
    "        count(\n",
    "            when(\n",
    "                col(c).contains(\"None\")\n",
    "                | col(c).contains(\"NULL\")\n",
    "                | (col(c) == \"\")\n",
    "                | col(c).isNull()\n",
    "                | isnan(c),\n",
    "                c,\n",
    "            )\n",
    "        ).alias(c)\n",
    "        for c in toronto_weather_transformed.columns\n",
    "    ]\n",
    ").show()"
   ]
  },
  {
   "cell_type": "code",
   "execution_count": 0,
   "metadata": {
    "application/vnd.databricks.v1+cell": {
     "cellMetadata": {
      "byteLimit": 2048000,
      "rowLimit": 10000
     },
     "inputWidgets": {},
     "nuid": "f225751d-bb10-4fae-b7be-ce987767deb5",
     "showTitle": false,
     "tableResultSettingsMap": {},
     "title": ""
    }
   },
   "outputs": [],
   "source": [
    "# remove nan records\n",
    "toronto_weather_transformed = toronto_weather_transformed.filter(\n",
    "    ~greatest(*[col(c).contains(\"NaN\") for c in toronto_weather_transformed.columns])\n",
    "    == True\n",
    ")"
   ]
  },
  {
   "cell_type": "code",
   "execution_count": 0,
   "metadata": {
    "application/vnd.databricks.v1+cell": {
     "cellMetadata": {
      "byteLimit": 2048000,
      "rowLimit": 10000
     },
     "inputWidgets": {},
     "nuid": "f7175c35-72a4-45f8-8e18-67308a6f8d0b",
     "showTitle": false,
     "tableResultSettingsMap": {},
     "title": ""
    }
   },
   "outputs": [],
   "source": [
    "# remove any duplicate data about weather for specific day if exists\n",
    "toronto_weather_transformed = toronto_weather_transformed.dropDuplicates(\n",
    "    subset=[\"time\"]\n",
    ")"
   ]
  },
  {
   "cell_type": "code",
   "execution_count": 0,
   "metadata": {
    "application/vnd.databricks.v1+cell": {
     "cellMetadata": {
      "byteLimit": 2048000,
      "rowLimit": 10000
     },
     "inputWidgets": {},
     "nuid": "020b8dd8-9ecd-4314-8848-ecb224bcda4f",
     "showTitle": false,
     "tableResultSettingsMap": {},
     "title": ""
    }
   },
   "outputs": [],
   "source": [
    "toronto_weather_transformed = (\n",
    "    toronto_weather_transformed.withColumn(\"time\", col(\"time\").cast(\"date\"))\n",
    "    .withColumnRenamed(\"time\", \"date\")\n",
    "    .withColumn(\"temperature_2m_max (°C)\", col(\"temperature_2m_max (°C)\").cast(\"float\"))\n",
    "    .withColumnRenamed(\"temperature_2m_max (°C)\", \"temperature_2m_max(C)\")\n",
    "    .withColumn(\"temperature_2m_min (°C)\", col(\"temperature_2m_min (°C)\").cast(\"float\"))\n",
    "    .withColumnRenamed(\"temperature_2m_min (°C)\", \"temperature_2m_min(C)\")\n",
    "    .withColumn(\n",
    "        \"temperature_2m_mean (°C)\", col(\"temperature_2m_mean (°C)\").cast(\"float\")\n",
    "    )\n",
    "    .withColumnRenamed(\"temperature_2m_mean (°C)\", \"temperature_2m_mean(C)\")\n",
    "    .withColumn(\n",
    "        \"sunrise (iso8601)\",\n",
    "        date_format(col(\"sunrise (iso8601)\"), \"yyyy-MM-dd HH:mm\").cast(\"timestamp\"),\n",
    "    )\n",
    "    .withColumnRenamed(\"sunrise (iso8601)\", \"sunrise_time\")\n",
    "    .withColumn(\n",
    "        \"sunset (iso8601)\",\n",
    "        date_format(col(\"sunset (iso8601)\"), \"yyyy-MM-dd HH:mm\").cast(\"timestamp\"),\n",
    "    )\n",
    "    .withColumnRenamed(\"sunset (iso8601)\", \"sunset_time\")\n",
    "    .withColumn(\"daylight_duration (s)\", col(\"daylight_duration (s)\").cast(\"float\"))\n",
    "    .withColumnRenamed(\"daylight_duration (s)\", \"daylight_duration(s)\")\n",
    "    .withColumn(\"sunshine_duration (s)\", col(\"sunshine_duration (s)\").cast(\"float\"))\n",
    "    .withColumnRenamed(\"sunshine_duration (s)\", \"sunshine_duration(s)\")\n",
    "    .withColumn(\"precipitation_sum (mm)\", col(\"precipitation_sum (mm)\").cast(\"float\"))\n",
    "    .withColumnRenamed(\"precipitation_sum (mm)\", \"precipitation_sum(mm)\")\n",
    "    .withColumn(\"rain_sum (mm)\", col(\"rain_sum (mm)\").cast(\"float\"))\n",
    "    .withColumnRenamed(\"rain_sum (mm)\", \"rain_sum(mm)\")\n",
    "    .withColumn(\"snowfall_sum (cm)\", col(\"snowfall_sum (cm)\").cast(\"float\"))\n",
    "    .withColumnRenamed(\"snowfall_sum (cm)\", \"snowfall_sum(cm)\")\n",
    "    .withColumn(\n",
    "        \"precipitation_hours (h)\", col(\"precipitation_hours (h)\").cast(\"integer\")\n",
    "    )\n",
    "    .withColumnRenamed(\"precipitation_hours (h)\", \"precipitation_hours(h)\")\n",
    "    .withColumn(\n",
    "        \"wind_speed_10m_max (km/h)\", col(\"wind_speed_10m_max (km/h)\").cast(\"float\")\n",
    "    )\n",
    "    .withColumnRenamed(\"wind_speed_10m_max (km/h)\", \"wind_speed_10m_max(km/h)\")\n",
    "    .withColumn(\n",
    "        \"wind_gusts_10m_max (km/h)\", col(\"wind_gusts_10m_max (km/h)\").cast(\"float\")\n",
    "    )\n",
    "    .withColumnRenamed(\"wind_gusts_10m_max (km/h)\", \"wind_gusts_10m_max(km/h)\")\n",
    "    .withColumn(\n",
    "        \"wind_direction_10m_dominant (°)\",\n",
    "        col(\"wind_direction_10m_dominant (°)\").cast(\"float\"),\n",
    "    )\n",
    "    .withColumnRenamed(\n",
    "        \"wind_direction_10m_dominant (°)\", \"wind_direction_10m_dominant(degrees)\"\n",
    "    )\n",
    "    .withColumn(\n",
    "        \"shortwave_radiation_sum (MJ/m²)\",\n",
    "        col(\"shortwave_radiation_sum (MJ/m²)\").cast(\"float\"),\n",
    "    )\n",
    "    .withColumnRenamed(\n",
    "        \"shortwave_radiation_sum (MJ/m²)\", \"shortwave_radiation_sum(MJ/m2)\"\n",
    "    )\n",
    "    .withColumn(\n",
    "        \"et0_fao_evapotranspiration (mm)\",\n",
    "        col(\"et0_fao_evapotranspiration (mm)\").cast(\"float\"),\n",
    "    )\n",
    "    .withColumnRenamed(\n",
    "        \"et0_fao_evapotranspiration (mm)\", \"et0_fao_evapotranspiration(mm)\"\n",
    "    )\n",
    ")"
   ]
  },
  {
   "cell_type": "code",
   "execution_count": 0,
   "metadata": {
    "application/vnd.databricks.v1+cell": {
     "cellMetadata": {
      "byteLimit": 2048000,
      "rowLimit": 10000
     },
     "inputWidgets": {},
     "nuid": "57639fec-2fb0-43df-bfc6-c64828dc7f78",
     "showTitle": false,
     "tableResultSettingsMap": {},
     "title": ""
    }
   },
   "outputs": [
    {
     "output_type": "stream",
     "name": "stdout",
     "output_type": "stream",
     "text": [
      "root\n |-- date: date (nullable = true)\n |-- temperature_2m_max(C): float (nullable = true)\n |-- temperature_2m_min(C): float (nullable = true)\n |-- temperature_2m_mean(C): float (nullable = true)\n |-- sunrise_time: timestamp (nullable = true)\n |-- sunset_time: timestamp (nullable = true)\n |-- daylight_duration(s): float (nullable = true)\n |-- sunshine_duration(s): float (nullable = true)\n |-- precipitation_sum(mm): float (nullable = true)\n |-- rain_sum(mm): float (nullable = true)\n |-- snowfall_sum(cm): float (nullable = true)\n |-- precipitation_hours(h): integer (nullable = true)\n |-- wind_speed_10m_max(km/h): float (nullable = true)\n |-- wind_gusts_10m_max(km/h): float (nullable = true)\n |-- wind_direction_10m_dominant(degrees): float (nullable = true)\n |-- shortwave_radiation_sum(MJ/m2): float (nullable = true)\n |-- et0_fao_evapotranspiration(mm): float (nullable = true)\n\n"
     ]
    }
   ],
   "source": [
    "toronto_weather_transformed.printSchema()"
   ]
  },
  {
   "cell_type": "code",
   "execution_count": 0,
   "metadata": {
    "application/vnd.databricks.v1+cell": {
     "cellMetadata": {
      "byteLimit": 2048000,
      "rowLimit": 10000
     },
     "inputWidgets": {},
     "nuid": "8e68ac12-aad4-46bc-910d-f203c6aac3d7",
     "showTitle": false,
     "tableResultSettingsMap": {},
     "title": ""
    }
   },
   "outputs": [],
   "source": [
    "toronto_weather_transformed = toronto_weather_transformed.toDF(\n",
    "    *[c.upper() for c in toronto_weather_transformed.columns]\n",
    ")"
   ]
  },
  {
   "cell_type": "code",
   "execution_count": 0,
   "metadata": {
    "application/vnd.databricks.v1+cell": {
     "cellMetadata": {
      "byteLimit": 2048000,
      "rowLimit": 10000
     },
     "inputWidgets": {},
     "nuid": "2b54f7f1-d500-47fd-8ebf-dad081fa2ee6",
     "showTitle": false,
     "tableResultSettingsMap": {},
     "title": ""
    }
   },
   "outputs": [],
   "source": [
    "toronto_weather_transformed = toronto_weather_transformed.sort(\"date\", ascending=False)"
   ]
  },
  {
   "cell_type": "code",
   "execution_count": 0,
   "metadata": {
    "application/vnd.databricks.v1+cell": {
     "cellMetadata": {
      "byteLimit": 2048000,
      "rowLimit": 10000
     },
     "inputWidgets": {},
     "nuid": "c0942d8d-37b6-4fab-b3d6-52444380879d",
     "showTitle": false,
     "tableResultSettingsMap": {},
     "title": ""
    }
   },
   "outputs": [
    {
     "output_type": "stream",
     "name": "stdout",
     "output_type": "stream",
     "text": [
      "+----------+---------------------+---------------------+----------------------+-------------------+-------------------+--------------------+--------------------+---------------------+------------+----------------+----------------------+------------------------+------------------------+------------------------------------+------------------------------+------------------------------+\n|      DATE|TEMPERATURE_2M_MAX(C)|TEMPERATURE_2M_MIN(C)|TEMPERATURE_2M_MEAN(C)|       SUNRISE_TIME|        SUNSET_TIME|DAYLIGHT_DURATION(S)|SUNSHINE_DURATION(S)|PRECIPITATION_SUM(MM)|RAIN_SUM(MM)|SNOWFALL_SUM(CM)|PRECIPITATION_HOURS(H)|WIND_SPEED_10M_MAX(KM/H)|WIND_GUSTS_10M_MAX(KM/H)|WIND_DIRECTION_10M_DOMINANT(DEGREES)|SHORTWAVE_RADIATION_SUM(MJ/M2)|ET0_FAO_EVAPOTRANSPIRATION(MM)|\n+----------+---------------------+---------------------+----------------------+-------------------+-------------------+--------------------+--------------------+---------------------+------------+----------------+----------------------+------------------------+------------------------+------------------------------------+------------------------------+------------------------------+\n|2024-10-26|                 11.2|                  4.6|                   8.0|2024-10-26 07:46:00|2024-10-26 18:16:00|            37786.25|            34250.95|                  0.5|         0.5|             0.0|                     4|                    25.4|                    49.0|                               301.0|                         11.12|                          1.98|\n|2024-10-25|                 12.7|                  4.2|                   9.1|2024-10-25 07:45:00|2024-10-25 18:17:00|            37953.66|              7597.0|                  1.9|         1.9|             0.0|                     3|                    18.9|                    37.1|                               185.0|                          4.63|                          0.96|\n|2024-10-24|                 10.6|                  4.4|                   8.0|2024-10-24 07:44:00|2024-10-24 18:19:00|            38121.66|            15474.62|                  0.0|         0.0|             0.0|                     0|                    18.1|                    35.6|                               335.0|                          6.31|                          1.17|\n|2024-10-23|                 21.0|                  9.9|                  15.5|2024-10-23 07:42:00|2024-10-23 18:20:00|            38290.09|            23392.32|                  0.2|         0.2|             0.0|                     1|                    26.5|                    48.6|                               255.0|                          8.63|                          2.65|\n|2024-10-22|                 20.2|                 10.0|                  14.8|2024-10-22 07:41:00|2024-10-22 18:22:00|             38458.8|            34963.08|                  0.0|         0.0|             0.0|                     0|                    16.8|                    28.8|                               209.0|                         12.77|                          2.25|\n|2024-10-21|                 22.5|                 13.2|                  17.2|2024-10-21 07:40:00|2024-10-21 18:23:00|            38627.66|            35141.16|                  0.0|         0.0|             0.0|                     0|                    14.9|                    27.4|                               241.0|                         12.61|                          3.06|\n|2024-10-20|                 20.0|                  7.7|                  13.4|2024-10-20 07:39:00|2024-10-20 18:25:00|             38796.5|            35318.97|                  0.0|         0.0|             0.0|                     0|                    18.8|                    36.0|                               233.0|                          13.5|                          2.65|\n|2024-10-19|                 16.5|                  3.6|                  10.3|2024-10-19 07:37:00|2024-10-19 18:27:00|            38965.21|            35496.35|                  0.0|         0.0|             0.0|                     0|                    15.6|                    26.3|                               234.0|                          13.9|                           2.0|\n|2024-10-18|                 15.7|                  2.1|                   8.8|2024-10-18 07:36:00|2024-10-18 18:28:00|            39133.74|            35673.21|                  0.0|         0.0|             0.0|                     0|                    11.8|                    22.3|                               268.0|                         14.29|                          2.07|\n|2024-10-17|                 12.7|                  1.6|                   7.1|2024-10-17 07:35:00|2024-10-17 18:30:00|            39303.43|            35773.08|                  0.0|         0.0|             0.0|                     0|                    13.4|                    27.7|                               263.0|                          14.2|                          1.87|\n|2024-10-16|                  9.9|                  3.9|                   6.8|2024-10-16 07:34:00|2024-10-16 18:31:00|            39474.57|            27521.29|                  0.0|         0.0|             0.0|                     0|                    20.1|                    39.6|                               327.0|                          8.41|                           1.6|\n|2024-10-15|                  9.9|                  2.6|                   6.2|2024-10-15 07:32:00|2024-10-15 18:33:00|            39647.05|            35184.91|                  0.3|         0.3|             0.0|                     2|                    24.2|                    47.2|                               326.0|                         11.56|                          1.81|\n|2024-10-14|                  9.5|                  5.0|                   7.2|2024-10-14 07:31:00|2024-10-14 18:35:00|             39820.7|            27133.79|                  1.3|         1.3|             0.0|                     4|                    26.4|                    50.8|                                 2.0|                         10.25|                          2.08|\n|2024-10-13|                 12.5|                  7.2|                   9.9|2024-10-13 07:30:00|2024-10-13 18:36:00|            39995.41|              2697.2|                  1.7|         1.7|             0.0|                     7|                    23.4|                    43.9|                                55.0|                          4.34|                          1.36|\n|2024-10-12|                 17.8|                  7.8|                  12.1|2024-10-12 07:29:00|2024-10-12 18:38:00|            40171.04|            36048.92|                  0.0|         0.0|             0.0|                     0|                    26.4|                    47.9|                               329.0|                         15.37|                          2.84|\n|2024-10-11|                 20.4|                  4.4|                  12.7|2024-10-11 07:28:00|2024-10-11 18:40:00|            40347.46|             32400.0|                  0.0|         0.0|             0.0|                     0|                    30.5|                    54.0|                               246.0|                         14.15|                          3.12|\n|2024-10-10|                 13.5|                  4.3|                   8.3|2024-10-10 07:26:00|2024-10-10 18:42:00|            40524.54|            36395.58|                  0.0|         0.0|             0.0|                     0|                    16.8|                    33.8|                               325.0|                         12.59|                          1.88|\n|2024-10-09|                 13.3|                  5.5|                   8.8|2024-10-09 07:25:00|2024-10-09 18:43:00|            40702.16|            36457.87|                  0.1|         0.1|             0.0|                     1|                    27.3|                    52.9|                               300.0|                         13.02|                          2.19|\n|2024-10-08|                 15.5|                  7.6|                  11.1|2024-10-08 07:24:00|2024-10-08 18:45:00|            40880.19|            36653.81|                  0.1|         0.1|             0.0|                     1|                    23.4|                    46.4|                               286.0|                         14.56|                          2.59|\n|2024-10-07|                 16.0|                  8.6|                  12.4|2024-10-07 07:23:00|2024-10-07 18:47:00|            41058.51|             35594.5|                  0.1|         0.1|             0.0|                     1|                    23.5|                    45.0|                               295.0|                         12.37|                          2.55|\n+----------+---------------------+---------------------+----------------------+-------------------+-------------------+--------------------+--------------------+---------------------+------------+----------------+----------------------+------------------------+------------------------+------------------------------------+------------------------------+------------------------------+\nonly showing top 20 rows\n\n"
     ]
    }
   ],
   "source": [
    "toronto_weather_transformed.show()"
   ]
  },
  {
   "cell_type": "markdown",
   "metadata": {
    "application/vnd.databricks.v1+cell": {
     "cellMetadata": {
      "byteLimit": 2048000,
      "rowLimit": 10000
     },
     "inputWidgets": {},
     "nuid": "c5eeeedf-ff82-40d8-afea-9c2e1e1b2945",
     "showTitle": false,
     "tableResultSettingsMap": {},
     "title": ""
    }
   },
   "source": [
    "## Cleaning toronto traffic collisions data"
   ]
  },
  {
   "cell_type": "code",
   "execution_count": 0,
   "metadata": {
    "application/vnd.databricks.v1+cell": {
     "cellMetadata": {
      "byteLimit": 2048000,
      "rowLimit": 10000
     },
     "inputWidgets": {},
     "nuid": "3c41592a-1689-4d3c-a02d-cbe918e52803",
     "showTitle": false,
     "tableResultSettingsMap": {},
     "title": ""
    }
   },
   "outputs": [
    {
     "output_type": "stream",
     "name": "stdout",
     "output_type": "stream",
     "text": [
      "root\n |-- AUTOMOBILE: string (nullable = true)\n |-- BICYCLE: string (nullable = true)\n |-- DIVISION: string (nullable = true)\n |-- EVENT_UNIQUE_ID: string (nullable = true)\n |-- FATALITIES: long (nullable = true)\n |-- FTR_COLLISIONS: string (nullable = true)\n |-- HOOD_158: string (nullable = true)\n |-- INJURY_COLLISIONS: string (nullable = true)\n |-- LAT_WGS84: double (nullable = true)\n |-- LONG_WGS84: double (nullable = true)\n |-- MOTORCYCLE: string (nullable = true)\n |-- NEIGHBOURHOOD_158: string (nullable = true)\n |-- OBJECTID: long (nullable = true)\n |-- OCC_DATE: long (nullable = true)\n |-- OCC_DOW: string (nullable = true)\n |-- OCC_HOUR: string (nullable = true)\n |-- OCC_MONTH: string (nullable = true)\n |-- OCC_YEAR: string (nullable = true)\n |-- PASSENGER: string (nullable = true)\n |-- PD_COLLISIONS: string (nullable = true)\n |-- PEDESTRIAN: string (nullable = true)\n\n"
     ]
    }
   ],
   "source": [
    "toronto_collisions_raw.printSchema()"
   ]
  },
  {
   "cell_type": "code",
   "execution_count": 0,
   "metadata": {
    "application/vnd.databricks.v1+cell": {
     "cellMetadata": {
      "byteLimit": 2048000,
      "rowLimit": 10000
     },
     "inputWidgets": {},
     "nuid": "4d329747-27a5-42b4-b18f-ffbb4e5ebe0b",
     "showTitle": false,
     "tableResultSettingsMap": {},
     "title": ""
    }
   },
   "outputs": [
    {
     "output_type": "stream",
     "name": "stdout",
     "output_type": "stream",
     "text": [
      "+----------+-------+--------+---------------+----------+--------------+--------+-----------------+------------------+------------------+----------+--------------------+--------+-------------+-------+--------+---------+--------+---------+-------------+----------+\n|AUTOMOBILE|BICYCLE|DIVISION|EVENT_UNIQUE_ID|FATALITIES|FTR_COLLISIONS|HOOD_158|INJURY_COLLISIONS|         LAT_WGS84|        LONG_WGS84|MOTORCYCLE|   NEIGHBOURHOOD_158|OBJECTID|     OCC_DATE|OCC_DOW|OCC_HOUR|OCC_MONTH|OCC_YEAR|PASSENGER|PD_COLLISIONS|PEDESTRIAN|\n+----------+-------+--------+---------------+----------+--------------+--------+-----------------+------------------+------------------+----------+--------------------+--------+-------------+-------+--------+---------+--------+---------+-------------+----------+\n|       YES|    YES|     D55| GO-20142815344|         0|            NO|     068|              YES| 43.67619633749256|-79.35886348045678|        NO|North Riverdale (68)|   42001|1409461200000| Sunday|      18|   August|    2014|       NO|           NO|        NO|\n|       YES|     NO|     D22| GO-20148032306|         0|            NO|     159|               NO| 43.61639740463249|-79.54627218313969|        NO|Etobicoke City Ce...|   42002|1409461200000| Sunday|      17|   August|    2014|       NO|          YES|        NO|\n|       YES|     NO|     D51| GO-20142815179|         0|            NO|     167|               NO| 43.66290600200977|-79.38372774683492|        NO|Church-Wellesley ...|   42003|1409461200000| Sunday|      17|   August|    2014|       NO|          YES|        NO|\n|       YES|     NO|     D32| GO-20148032618|         0|            NO|     033|               NO| 43.73330654738157|-79.45274806291962|        NO|   Clanton Park (33)|   42004|1409461200000| Sunday|      14|   August|    2014|       NO|          YES|        NO|\n|       YES|     NO|     D51| GO-20148032942|         0|            NO|     072|               NO| 43.66278830189199|-79.36317286098945|        NO|    Regent Park (72)|   42005|1409461200000| Sunday|       2|   August|    2014|       NO|          YES|        NO|\n|       YES|     NO|     D32| GO-20142814710|         0|            NO|     040|               NO| 43.74414518291392|-79.40671388896679|        NO|St.Andrew-Windfie...|   42006|1409461200000| Sunday|      16|   August|    2014|       NO|          YES|        NO|\n|       YES|     NO|     D52| GO-20148032305|         0|            NO|     170|               NO|  43.6548223939261|-79.38814214166892|        NO|Yonge-Bay Corrido...|   42007|1409461200000| Sunday|      15|   August|    2014|       NO|          YES|        NO|\n|       YES|     NO|     D33| GO-20142812785|         0|            NO|     049|               NO| 43.78500070329029|-79.39213598212983|        NO|Bayview Woods-Ste...|   42008|1409461200000| Sunday|      11|   August|    2014|       NO|          YES|        NO|\n|       YES|     NO|     D11| GO-20142814452|         0|            NO|     087|               NO| 43.64488449995617| -79.4562365145866|        NO|High Park-Swansea...|   42009|1409461200000| Sunday|      16|   August|    2014|       NO|          YES|        NO|\n|       YES|     NO|     D41| GO-20142814154|         0|            NO|     119|              YES| 43.76115142489137|-79.30065157567259|        NO|Wexford/Maryvale ...|   42010|1409461200000| Sunday|      15|   August|    2014|      YES|           NO|        NO|\n|       YES|     NO|     D41| GO-20148032452|         0|            NO|     120|               NO| 43.72691366166945|-79.29151597810997|        NO|Clairlea-Birchmou...|   42011|1409461200000| Sunday|      16|   August|    2014|      YES|          YES|        NO|\n|       YES|     NO|     D42| GO-20142812742|         0|            NO|     116|              YES| 43.80863063979114|-79.31115409724694|        NO|       Steeles (116)|   42012|1409461200000| Sunday|      11|   August|    2014|      YES|           NO|        NO|\n|       YES|     NO|     D41| GO-20142813389|         0|            NO|     120|              YES| 43.72691366166945|-79.29151597810997|        NO|Clairlea-Birchmou...|   42013|1409461200000| Sunday|      13|   August|    2014|      YES|           NO|        NO|\n|       YES|     NO|     D22| GO-20142813353|         0|            NO|     161|              YES| 43.62094188018773|-79.48275561678737|        NO|Humber Bay Shores...|   42014|1409461200000| Sunday|      13|   August|    2014|      YES|           NO|        NO|\n|       YES|     NO|     D22| GO-20148033095|         0|           YES|     011|               NO| 43.65577091933763|-79.56476288098676|        NO|Eringate-Centenni...|   42015|1409461200000| Sunday|      11|   August|    2014|       NO|           NO|        NO|\n|       YES|     NO|     D42| GO-20142813255|         0|            NO|     129|              YES| 43.81164537761544|-79.26919623413414|        NO|Agincourt North (...|   42016|1409461200000| Sunday|      12|   August|    2014|      YES|           NO|        NO|\n|       YES|    YES|     D11| GO-20142813197|         0|           YES|     084|               NO|43.650498198935075|-79.43583622138662|        NO|Little Portugal (84)|   42017|1409461200000| Sunday|      13|   August|    2014|       NO|           NO|        NO|\n|       YES|     NO|     D31| GO-20148032683|         0|            NO|     021|               NO| 43.75207238680615|-79.54236519998109|        NO|  Humber Summit (21)|   42018|1409461200000| Sunday|      14|   August|    2014|       NO|          YES|        NO|\n|       YES|     NO|     NSA| GO-20148032455|         0|           YES|     NSA|               NO|               0.0|               0.0|        NO|                 NSA|   42019|1409461200000| Sunday|      23|   August|    2014|       NO|           NO|        NO|\n|       YES|     NO|     NSA| GO-20148032757|         0|            NO|     NSA|               NO|               0.0|               0.0|        NO|                 NSA|   42020|1409461200000| Sunday|      11|   August|    2014|       NO|          YES|        NO|\n+----------+-------+--------+---------------+----------+--------------+--------+-----------------+------------------+------------------+----------+--------------------+--------+-------------+-------+--------+---------+--------+---------+-------------+----------+\nonly showing top 20 rows\n\n"
     ]
    }
   ],
   "source": [
    "toronto_collisions_raw.show()"
   ]
  },
  {
   "cell_type": "code",
   "execution_count": 0,
   "metadata": {
    "application/vnd.databricks.v1+cell": {
     "cellMetadata": {
      "byteLimit": 2048000,
      "rowLimit": 10000
     },
     "inputWidgets": {},
     "nuid": "a314ca30-d1a9-431d-bbd9-395a476a9678",
     "showTitle": false,
     "tableResultSettingsMap": {},
     "title": ""
    }
   },
   "outputs": [],
   "source": [
    "# remove following columns: objectID, Hood_158, occ_month, occ_year, occ_dow\n",
    "toronto_collisions_transformed = toronto_collisions_raw.drop(\n",
    "    *[\"OBJECTID\", \"HOOD_158\", \"OCC_MONTH\", \"OCC_YEAR\", \"OCC_DOW\"]\n",
    ")"
   ]
  },
  {
   "cell_type": "code",
   "execution_count": 0,
   "metadata": {
    "application/vnd.databricks.v1+cell": {
     "cellMetadata": {
      "byteLimit": 2048000,
      "rowLimit": 10000
     },
     "inputWidgets": {},
     "nuid": "87e4bde5-d9e7-4cc9-b04a-f501ad413b36",
     "showTitle": false,
     "tableResultSettingsMap": {},
     "title": ""
    }
   },
   "outputs": [],
   "source": [
    "# drop duplicates if exists\n",
    "toronto_collisions_transformed = toronto_collisions_transformed.dropDuplicates(\n",
    "    subset=[\"EVENT_UNIQUE_ID\"]\n",
    ")"
   ]
  },
  {
   "cell_type": "code",
   "execution_count": 0,
   "metadata": {
    "application/vnd.databricks.v1+cell": {
     "cellMetadata": {
      "byteLimit": 2048000,
      "rowLimit": 10000
     },
     "inputWidgets": {},
     "nuid": "4b6e6a12-ebbf-4a07-b8d4-8151a9189b70",
     "showTitle": false,
     "tableResultSettingsMap": {},
     "title": ""
    }
   },
   "outputs": [],
   "source": [
    "# drop na/null records if exist in any column\n",
    "toronto_collisions_transformed = toronto_collisions_transformed.dropna(how=\"any\")"
   ]
  },
  {
   "cell_type": "code",
   "execution_count": 0,
   "metadata": {
    "application/vnd.databricks.v1+cell": {
     "cellMetadata": {
      "byteLimit": 2048000,
      "rowLimit": 10000
     },
     "inputWidgets": {},
     "nuid": "79a8f4ba-4d90-4674-b906-0a51da507bea",
     "showTitle": false,
     "tableResultSettingsMap": {},
     "title": ""
    }
   },
   "outputs": [
    {
     "output_type": "stream",
     "name": "stdout",
     "output_type": "stream",
     "text": [
      "Out[29]: 17.945454545454545"
     ]
    }
   ],
   "source": [
    "# check, how much records have Not specified area(NSA) or Not Required (N/R) value in any column\n",
    "toronto_collisions_transformed.filter(\n",
    "    greatest(\n",
    "        *[col(c).isin([\"NSA\", \"N/R\"]) for c in toronto_collisions_transformed.columns]\n",
    "    )\n",
    "    == True\n",
    ").count() / toronto_collisions_transformed.count() * 100"
   ]
  },
  {
   "cell_type": "code",
   "execution_count": 0,
   "metadata": {
    "application/vnd.databricks.v1+cell": {
     "cellMetadata": {
      "byteLimit": 2048000,
      "rowLimit": 10000
     },
     "inputWidgets": {},
     "nuid": "f3581938-b6e7-4132-ba31-fc07574be26c",
     "showTitle": false,
     "tableResultSettingsMap": {},
     "title": ""
    }
   },
   "outputs": [
    {
     "output_type": "stream",
     "name": "stdout",
     "output_type": "stream",
     "text": [
      "Out[30]: 0.14545454545454545"
     ]
    }
   ],
   "source": [
    "# check, how much records have Not specified area(NSA) and Not Required (N/R) value in columns\n",
    "toronto_collisions_transformed.filter(\n",
    "    (\n",
    "        greatest(\n",
    "            *[(col(c).isin([\"N/R\"])) for c in toronto_collisions_transformed.columns]\n",
    "        )\n",
    "        == True\n",
    "    )\n",
    "    & (\n",
    "        greatest(\n",
    "            *[(col(c).isin([\"NSA\"])) for c in toronto_collisions_transformed.columns]\n",
    "        )\n",
    "        == True\n",
    "    )\n",
    ").count() / toronto_collisions_transformed.count() * 100"
   ]
  },
  {
   "cell_type": "code",
   "execution_count": 0,
   "metadata": {
    "application/vnd.databricks.v1+cell": {
     "cellMetadata": {
      "byteLimit": 2048000,
      "rowLimit": 10000
     },
     "inputWidgets": {},
     "nuid": "d022eb9b-51ab-42fe-8308-d6b2e4fc2929",
     "showTitle": false,
     "tableResultSettingsMap": {},
     "title": ""
    }
   },
   "outputs": [],
   "source": [
    "# remove these records where isn't specified area(NSA) and Not Required (N/R) value in columns\n",
    "toronto_collisions_transformed = toronto_collisions_transformed.subtract(\n",
    "    toronto_collisions_transformed.filter(\n",
    "        (\n",
    "            greatest(\n",
    "                *[\n",
    "                    (col(c).isin([\"N/R\"]))\n",
    "                    for c in toronto_collisions_transformed.columns\n",
    "                ]\n",
    "            )\n",
    "            == True\n",
    "        )\n",
    "        & (\n",
    "            greatest(\n",
    "                *[\n",
    "                    (col(c).isin([\"NSA\"]))\n",
    "                    for c in toronto_collisions_transformed.columns\n",
    "                ]\n",
    "            )\n",
    "            == True\n",
    "        )\n",
    "    )\n",
    ")"
   ]
  },
  {
   "cell_type": "code",
   "execution_count": 0,
   "metadata": {
    "application/vnd.databricks.v1+cell": {
     "cellMetadata": {
      "byteLimit": 2048000,
      "rowLimit": 10000
     },
     "inputWidgets": {},
     "nuid": "8e7cce53-ca06-4a3f-b823-aaf3722a9954",
     "showTitle": false,
     "tableResultSettingsMap": {},
     "title": ""
    }
   },
   "outputs": [],
   "source": [
    "toronto_collisions_transformed = toronto_collisions_transformed.withColumn(\n",
    "    \"DATE_EVENT\",\n",
    "    date_format((col(\"OCC_DATE\") / 1000).cast(\"timestamp\"), \"yyyy-MM-dd\").cast(\"date\"),\n",
    ")"
   ]
  },
  {
   "cell_type": "code",
   "execution_count": 0,
   "metadata": {
    "application/vnd.databricks.v1+cell": {
     "cellMetadata": {
      "byteLimit": 2048000,
      "rowLimit": 10000
     },
     "inputWidgets": {},
     "nuid": "cc832119-0b79-4604-ade4-00971430a331",
     "showTitle": false,
     "tableResultSettingsMap": {},
     "title": ""
    }
   },
   "outputs": [],
   "source": [
    "toronto_collisions_transformed = toronto_collisions_transformed.drop(\"OCC_DATE\")"
   ]
  },
  {
   "cell_type": "code",
   "execution_count": 0,
   "metadata": {
    "application/vnd.databricks.v1+cell": {
     "cellMetadata": {
      "byteLimit": 2048000,
      "rowLimit": 10000
     },
     "inputWidgets": {},
     "nuid": "17e4a171-4ab4-4c9d-85ac-3d80144646af",
     "showTitle": false,
     "tableResultSettingsMap": {},
     "title": ""
    }
   },
   "outputs": [],
   "source": [
    "toronto_collisions_transformed = (\n",
    "    toronto_collisions_transformed.withColumn(\n",
    "        \"FATALITIES\", col(\"FATALITIES\").cast(\"integer\")\n",
    "    )\n",
    "    .withColumnRenamed(\"LAT_WGS84\", \"LATITUDE\")\n",
    "    .withColumnRenamed(\"LONG_WGS84\", \"LONGITUDE\")\n",
    "    .withColumnRenamed(\"NEIGHBOURHOOD_158\", \"NEIGHBOURHOOD_NAME\")\n",
    "    .withColumn(\"OCC_HOUR\", col(\"OCC_HOUR\").cast(\"integer\"))\n",
    "    .withColumnRenamed(\"OCC_HOUR\", \"HOUR_EVENT\")\n",
    ")"
   ]
  },
  {
   "cell_type": "code",
   "execution_count": 0,
   "metadata": {
    "application/vnd.databricks.v1+cell": {
     "cellMetadata": {
      "byteLimit": 2048000,
      "rowLimit": 10000
     },
     "inputWidgets": {},
     "nuid": "36bf2ef1-859a-4e52-8d5f-d35005833ea1",
     "showTitle": false,
     "tableResultSettingsMap": {},
     "title": ""
    }
   },
   "outputs": [
    {
     "output_type": "stream",
     "name": "stdout",
     "output_type": "stream",
     "text": [
      "+----------+-------+--------+---------------+----------+--------------+-----------------+------------------+------------------+----------+--------------------+----------+---------+-------------+----------+--------------+\n|AUTOMOBILE|BICYCLE|DIVISION|EVENT_UNIQUE_ID|FATALITIES|FTR_COLLISIONS|INJURY_COLLISIONS|          LATITUDE|         LONGITUDE|MOTORCYCLE|  NEIGHBOURHOOD_NAME|HOUR_EVENT|PASSENGER|PD_COLLISIONS|PEDESTRIAN|DATETIME_EVENT|\n+----------+-------+--------+---------------+----------+--------------+-----------------+------------------+------------------+----------+--------------------+----------+---------+-------------+----------+--------------+\n|       YES|     NO|     D33| GO-20148033870|         0|            NO|               NO|43.720780848086626| -79.3325817281569|        NO|Banbury-Don Mills...|        17|       NO|          YES|        NO|    2014-09-11|\n|       YES|     NO|     D22| GO-20148033867|         0|            NO|               NO| 43.67012369771391|-79.52135968782655|        NO|Edenbridge-Humber...|        17|       NO|          YES|        NO|    2014-09-11|\n|       YES|     NO|     D42| GO-20148033868|         0|            NO|               NO|43.787405266451614|-79.25727893162187|        NO|Agincourt South-M...|        16|       NO|          YES|        NO|    2014-09-11|\n|       YES|     NO|     D41| GO-20148033872|         0|            NO|               NO|43.758960137993796|-79.28953109680955|        NO|Wexford/Maryvale ...|        15|       NO|          YES|        NO|    2014-09-11|\n|       YES|     NO|     D43| GO-20148033882|         0|           YES|               NO| 43.77576920367464|-79.23493836273295|        NO|  Woburn North (142)|        10|       NO|           NO|        NO|    2014-09-11|\n|       YES|     NO|     D53| GO-20148033873|         0|            NO|               NO| 43.66873451071916| -79.4003094411357|        NO|          Annex (95)|         9|       NO|          YES|        NO|    2014-09-11|\n|       YES|     NO|     D22| GO-20148033869|         0|            NO|               NO| 43.65912038475639|-79.54639969313075|        NO|Princess-Rosethor...|        16|       NO|          YES|        NO|    2014-09-11|\n|       YES|     NO|     D31| GO-20148033876|         0|            NO|               NO| 43.76349715607369|-79.49104229993728|        NO|York University H...|        17|       NO|          YES|        NO|    2014-09-11|\n|       YES|     NO|     D22| GO-20148033886|         0|            NO|               NO| 43.63696153191429|-79.50704470446402|        NO|Stonegate-Queensw...|        16|       NO|          YES|        NO|    2014-09-11|\n|       YES|     NO|     D32| GO-20148033877|         0|            NO|               NO|43.779764396334784| -79.4155662486542|        NO|Newtonbrook East ...|        16|       NO|          YES|        NO|    2014-09-11|\n|       YES|     NO|     D53| GO-20148033885|         0|            NO|               NO|   43.668719909127|-79.39413274468478|        NO|          Annex (95)|         8|       NO|          YES|        NO|    2014-09-11|\n|       YES|     NO|     D33| GO-20148033880|         0|            NO|               NO| 43.75776741515415|-79.33795325846107|        NO|Parkwoods-O'Conno...|        17|       NO|          YES|        NO|    2014-09-11|\n|       YES|     NO|     D51| GO-20148033888|         0|            NO|               NO| 43.66679330589701|-79.38138384960313|        NO|Church-Wellesley ...|        16|       NO|          YES|        NO|    2014-09-11|\n|       YES|     NO|     D41| GO-20148033881|         0|           YES|               NO| 43.73381207574924| -79.2685944108162|        NO|       Ionview (125)|        18|       NO|           NO|        NO|    2014-09-11|\n|       YES|     NO|     D42| GO-20148033891|         0|            NO|               NO| 43.79951510685952| -79.3201008921114|        NO|L'Amoreaux West (...|        13|       NO|          YES|        NO|    2014-09-11|\n|       YES|     NO|     D13| GO-20148033884|         0|            NO|               NO| 43.67433272098151|-79.41482333732714|       YES|      Casa Loma (96)|        16|       NO|          YES|        NO|    2014-09-11|\n|       YES|     NO|     D32| GO-20148033893|         0|            NO|               NO|43.765459823802715|-79.44092235196102|        NO|Willowdale West (37)|         7|       NO|          YES|        NO|    2014-09-11|\n|       YES|     NO|     D53| GO-20148033890|         0|            NO|               NO| 43.71262030397122|-79.39174925213214|        NO|Mount Pleasant Ea...|        16|       NO|          YES|        NO|    2014-09-11|\n|       YES|     NO|     D55| GO-20148033894|         0|            NO|               NO|43.668801019107605| -79.3530119762825|        NO|North Riverdale (68)|        14|       NO|          YES|        NO|    2014-09-11|\n|       YES|     NO|     D53| GO-20148033897|         0|            NO|               NO| 43.69750381288889|-79.40560444081798|        NO| Yonge-St.Clair (97)|         6|       NO|          YES|        NO|    2014-09-11|\n+----------+-------+--------+---------------+----------+--------------+-----------------+------------------+------------------+----------+--------------------+----------+---------+-------------+----------+--------------+\nonly showing top 20 rows\n\n"
     ]
    }
   ],
   "source": [
    "toronto_collisions_transformed = toronto_collisions_transformed.sort(\n",
    "    \"DATE_EVENT\", ascending=False\n",
    ")\n",
    "toronto_collisions_transformed.show()"
   ]
  },
  {
   "cell_type": "markdown",
   "metadata": {
    "application/vnd.databricks.v1+cell": {
     "cellMetadata": {
      "byteLimit": 2048000,
      "rowLimit": 10000
     },
     "inputWidgets": {},
     "nuid": "d871f857-d923-4866-99fe-2c289c8c9acf",
     "showTitle": false,
     "tableResultSettingsMap": {},
     "title": ""
    }
   },
   "source": [
    "## Save Toronto data to Azure data lake storage"
   ]
  },
  {
   "cell_type": "code",
   "execution_count": 0,
   "metadata": {
    "application/vnd.databricks.v1+cell": {
     "cellMetadata": {
      "byteLimit": 2048000,
      "rowLimit": 10000
     },
     "inputWidgets": {},
     "nuid": "028b05c8-9511-4e37-98e0-4bfa685a4dc8",
     "showTitle": false,
     "tableResultSettingsMap": {},
     "title": ""
    }
   },
   "outputs": [],
   "source": [
    "# Save toronto weather data\n",
    "toronto_weather_save_path = f'abfss://toronto-data@torontodatalakestorage.dfs.core.windows.net/transformed/toronto_weather_transformed_{datetime.today().strftime(\"%Y%m%d\")}'\n",
    "\n",
    "toronto_weather_transformed.write.format(\"parquet\").mode(\"overwrite\").save(toronto_weather_save_path)"
   ]
  },
  {
   "cell_type": "code",
   "execution_count": 0,
   "metadata": {
    "application/vnd.databricks.v1+cell": {
     "cellMetadata": {
      "byteLimit": 2048000,
      "rowLimit": 10000
     },
     "inputWidgets": {},
     "nuid": "634bc003-9889-4b37-adde-0333ebe95ed3",
     "showTitle": false,
     "tableResultSettingsMap": {},
     "title": ""
    }
   },
   "outputs": [],
   "source": [
    "# Save toronto traffic collisions data\n",
    "toronto_traffic_collisions_save_path = f'abfss://toronto-data@torontodatalakestorage.dfs.core.windows.net/transformed/toronto_traffic_collisions_transformed_{datetime.today().strftime(\"%Y%m%d\")}'\n",
    "\n",
    "toronto_collisions_transformed.write.format(\"parquet\").mode(\"overwrite\").save(toronto_traffic_collisions_save_path)"
   ]
  }
 ],
 "metadata": {
  "application/vnd.databricks.v1+notebook": {
   "dashboards": [],
   "environmentMetadata": {
    "base_environment": "",
    "client": "1"
   },
   "language": "python",
   "notebookMetadata": {
    "pythonIndentUnit": 4
   },
   "notebookName": "Clean_transform_Toronto_data",
   "widgets": {}
  },
  "kernelspec": {
   "display_name": "base",
   "language": "python",
   "name": "python3"
  },
  "language_info": {
   "name": "python"
  }
 },
 "nbformat": 4,
 "nbformat_minor": 0
}
